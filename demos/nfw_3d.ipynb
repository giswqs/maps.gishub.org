{
 "cells": [
  {
   "cell_type": "code",
   "execution_count": null,
   "metadata": {},
   "outputs": [],
   "source": [
    "import leafmap.maplibregl as leafmap"
   ]
  },
  {
   "cell_type": "code",
   "execution_count": null,
   "metadata": {},
   "outputs": [],
   "source": [
    "m = leafmap.Map(center=[-99.09526, 47.099772], zoom=15, pitch=60, style=\"3d-hybrid\")\n",
    "url = \"https://earthengine.googleapis.com/v1/projects/api-project-141292844612/maps/78ba319f0b9cb3e8b0372d72e2805440-4f5c026f31cc1841d63e43c63b85413b/tiles/{z}/{x}/{y}\"\n",
    "m.add_tile_layer(url, name=\"LiDAR Hillshade\", min_zoom=11, visible=False)\n",
    "url = \"https://earthengine.googleapis.com/v1/projects/api-project-141292844612/maps/8867b32e43b58407b0fa7f15c2aeae5e-c325b6873fcc84c97bcba0c39a3551c7/tiles/{z}/{x}/{y}\"\n",
    "m.add_tile_layer(url, name=\"Depressions\", min_zoom=11)\n",
    "url = \"https://fwspublicservices.wim.usgs.gov/wetlandsmapservice/services/Wetlands/MapServer/WMSServer\"\n",
    "m.add_wms_layer(url, layers=\"1\", name=\"NWI\", opacity=0.6)\n",
    "url = \"https://earthengine.googleapis.com/v1/projects/api-project-141292844612/maps/10fffb3f2b6f20a629507f4c2b3f35ff-6317fbb1c7f2f9a1e32f2b85abefc2f8/tiles/{z}/{x}/{y}\"\n",
    "m.add_tile_layer(url, name=\"Depressions Flowpath\", min_zoom=11)\n",
    "url = \"https://hydro.nationalmap.gov/arcgis/services/wbd/MapServer/WMSServer\"\n",
    "m.add_wms_layer(url, layers=\"4\", name=\"WBD HU8\", opacity=1, visible=False)\n",
    "url = \"https://hydro.nationalmap.gov/arcgis/services/nhd/MapServer/WMSServer\"\n",
    "m.add_wms_layer(\n",
    "    url, layers=\"6\", name=\"Flowline - Large scale\", opacity=1, visible=False\n",
    ")\n",
    "url = \"https://hydro.nationalmap.gov/arcgis/services/nhd/MapServer/WMSServer\"\n",
    "m.add_wms_layer(\n",
    "    url, layers=\"8\", name=\"Flowline - Small scale\", opacity=1, visible=False\n",
    ")\n",
    "url = \"https://earthengine.googleapis.com/v1/projects/api-project-141292844612/maps/b981837dcd2d29ee33d55bfdb316224b-4a89c83eadfd34e36bd576b38fb57a1c/tiles/{z}/{x}/{y}\"\n",
    "m.add_tile_layer(url, name=\"Water Outlet\", min_zoom=12)\n",
    "url = \"https://earthengine.googleapis.com/v1/projects/api-project-141292844612/maps/b21df5302a05ff174431b7d814b0ba9d-18ceeb92bb049df61d3e23ea20909d1a/tiles/{z}/{x}/{y}\"\n",
    "m.add_tile_layer(url, name=\"Water Inlet\", min_zoom=12)\n",
    "m.add_3d_buildings()\n",
    "m.add_layer_control(bg_layers=True)\n",
    "m.add_legend(builtin_legend=\"NWI\", title=\"Wetland Type\")\n",
    "m"
   ]
  }
 ],
 "metadata": {
  "kernelspec": {
   "display_name": "Python 3 (ipykernel)",
   "language": "python",
   "name": "python3"
  },
  "language_info": {
   "codemirror_mode": {
    "name": "ipython",
    "version": 3
   },
   "file_extension": ".py",
   "mimetype": "text/x-python",
   "name": "python",
   "nbconvert_exporter": "python",
   "pygments_lexer": "ipython3",
   "version": "3.11.9"
  }
 },
 "nbformat": 4,
 "nbformat_minor": 4
}
